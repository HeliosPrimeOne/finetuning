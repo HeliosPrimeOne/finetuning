{
 "cells": [
  {
   "cell_type": "markdown",
   "metadata": {},
   "source": [
    "# This notebook contains some examples for how to use the finetune API."
   ]
  },
  {
   "cell_type": "code",
   "execution_count": null,
   "metadata": {},
   "outputs": [],
   "source": [
    "\"\"\"In this example, we load print the Hugging Face URL for the best-model in the SN9_MODEL competition.\"\"\"\n",
    "\n",
    "import asyncio\n",
    "\n",
    "import finetune as ft\n",
    "from competitions.data import CompetitionId\n",
    "\n",
    "# Each model competes in a single competition. Find the best top performing miner UID for the \n",
    "# competition we care about (SN9_MODEL, in this example).\n",
    "top_model_uid = ft.graph.best_uid(competition_id=CompetitionId.SN9_MODEL)\n",
    "\n",
    "# Get the HuggingFace URL for this model.\n",
    "repo_url = asyncio.run(ft.mining.get_repo(top_model_uid))\n",
    "print(f\"The best-performing model for SN9_MODEL competition is {repo_url}\")"
   ]
  },
  {
   "cell_type": "code",
   "execution_count": null,
   "metadata": {},
   "outputs": [],
   "source": [
    "\"\"\"In this example, we load the top model for the SN9_MODEL competition and converse with it.\"\"\"\n",
    "\n",
    "import asyncio\n",
    "\n",
    "import bittensor as bt\n",
    "import torch\n",
    "from taoverse.model.competition import utils as competition_utils\n",
    "from transformers import GenerationConfig\n",
    "\n",
    "import constants\n",
    "import finetune as ft\n",
    "from competitions import utils as competition_utils\n",
    "from competitions.data import CompetitionId\n",
    "\n",
    "# The device to run the model on.\n",
    "device = 'cuda' if torch.cuda.is_available() else 'cpu'\n",
    "\n",
    "# Download the top model to the specified directory.\n",
    "download_dir = \"./finetune-example\"\n",
    "model = asyncio.run(\n",
    "    ft.mining.load_best_model(\n",
    "        download_dir=download_dir, competition_id=CompetitionId.SN9_MODEL\n",
    "    )\n",
    ")\n",
    "\n",
    "# Load the competition so we can load the right tokenizer.\n",
    "metagraph = bt.metagraph(constants.SUBNET_UID)\n",
    "competition = competition_utils.get_competition_for_block(CompetitionId.SN9_MODEL, metagraph.block)\n",
    "tokenizer = ft.model.load_tokenizer(competition.constraints)\n",
    "\n",
    "# Decide on a prompt.\n",
    "prompt = \"How much wood could a woodchuck chuck if a woodchuck could chuck wood?\"\n",
    "\n",
    "# Tokenize it.\n",
    "conversation = [{\"role\": \"user\", \"content\": prompt}]\n",
    "input_ids = tokenizer.apply_chat_template(\n",
    "    conversation,\n",
    "    truncation=True,\n",
    "    return_tensors=\"pt\",\n",
    "    max_length=competition.constraints.sequence_length,\n",
    "    add_generation_prompt=True,\n",
    ")\n",
    "\n",
    "# Generate the output.\n",
    "# You may wish to customize the generation config.\n",
    "generation_config = GenerationConfig(\n",
    "    max_length=competition.constraints.sequence_length,\n",
    "    do_sample=True,\n",
    "    temperature=0.8,\n",
    "    top_p=0.95,\n",
    "    top_k=40,\n",
    "    repetition_penalty=1.1,\n",
    "    eos_token_id=tokenizer.eos_token_id,\n",
    "    pad_token_id=tokenizer.eos_token_id,\n",
    ")\n",
    "with torch.inference_mode():\n",
    "    model.to(device)\n",
    "    model.eval()\n",
    "    input_ids = input_ids.to(device)\n",
    "    output = model.generate(\n",
    "        input_ids=input_ids, generation_config=generation_config\n",
    "    )\n",
    "    response = tokenizer.decode(\n",
    "        output[0][len(input_ids[0]) :], skip_special_tokens=True\n",
    "    )\n",
    "    \n",
    "    print(response)"
   ]
  }
 ],
 "metadata": {
  "kernelspec": {
   "display_name": ".venv",
   "language": "python",
   "name": "python3"
  },
  "language_info": {
   "codemirror_mode": {
    "name": "ipython",
    "version": 3
   },
   "file_extension": ".py",
   "mimetype": "text/x-python",
   "name": "python",
   "nbconvert_exporter": "python",
   "pygments_lexer": "ipython3",
   "version": "3.10.13"
  }
 },
 "nbformat": 4,
 "nbformat_minor": 2
}
